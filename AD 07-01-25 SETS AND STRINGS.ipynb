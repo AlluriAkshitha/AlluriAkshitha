{
 "cells": [
  {
   "cell_type": "markdown",
   "id": "5f02e4ae",
   "metadata": {},
   "source": [
    "# SETS AND STRINGS"
   ]
  },
  {
   "cell_type": "code",
   "execution_count": 2,
   "id": "d26480a1",
   "metadata": {},
   "outputs": [
    {
     "name": "stdout",
     "output_type": "stream",
     "text": [
      "{0, 1, 2, 3, 4, 9, 10, 15}\n",
      "<class 'set'>\n"
     ]
    }
   ],
   "source": [
    "s1 = {1, 2, 3, 4,9, 15, 9, 0, 10, 9}\n",
    "print(s1)\n",
    "print(type(s1))"
   ]
  },
  {
   "cell_type": "code",
   "execution_count": 5,
   "id": "2c3051ed",
   "metadata": {},
   "outputs": [
    {
     "name": "stdout",
     "output_type": "stream",
     "text": [
      "{1, 4, 6, 8, 10}\n"
     ]
    }
   ],
   "source": [
    "list1 = [1,4,6,8,10]\n",
    "s2 = set(list1)\n",
    "print(s2)"
   ]
  },
  {
   "cell_type": "code",
   "execution_count": 6,
   "id": "42e254e3",
   "metadata": {},
   "outputs": [
    {
     "data": {
      "text/plain": [
       "{1, 2, 3, 4, 5, 6}"
      ]
     },
     "execution_count": 6,
     "metadata": {},
     "output_type": "execute_result"
    }
   ],
   "source": [
    "s3 = {1,2,3,4}\n",
    "s4 = {3,4,5,6}\n",
    "s3 | s4"
   ]
  },
  {
   "cell_type": "code",
   "execution_count": 7,
   "id": "8308a876",
   "metadata": {},
   "outputs": [
    {
     "data": {
      "text/plain": [
       "{3, 4}"
      ]
     },
     "execution_count": 7,
     "metadata": {},
     "output_type": "execute_result"
    }
   ],
   "source": [
    "s3 & s4"
   ]
  },
  {
   "cell_type": "code",
   "execution_count": 9,
   "id": "689650ec",
   "metadata": {},
   "outputs": [
    {
     "data": {
      "text/plain": [
       "{1, 2}"
      ]
     },
     "execution_count": 9,
     "metadata": {},
     "output_type": "execute_result"
    }
   ],
   "source": [
    "s3 - s4"
   ]
  },
  {
   "cell_type": "code",
   "execution_count": 10,
   "id": "4ca8e368",
   "metadata": {},
   "outputs": [
    {
     "data": {
      "text/plain": [
       "{5, 6}"
      ]
     },
     "execution_count": 10,
     "metadata": {},
     "output_type": "execute_result"
    }
   ],
   "source": [
    "s4 - s3"
   ]
  },
  {
   "cell_type": "code",
   "execution_count": 12,
   "id": "0a540a20",
   "metadata": {},
   "outputs": [
    {
     "data": {
      "text/plain": [
       "{1, 2, 5, 6}"
      ]
     },
     "execution_count": 12,
     "metadata": {},
     "output_type": "execute_result"
    }
   ],
   "source": [
    "s3.symmetric_difference(s4)"
   ]
  },
  {
   "cell_type": "code",
   "execution_count": 14,
   "id": "ac594673",
   "metadata": {},
   "outputs": [
    {
     "data": {
      "text/plain": [
       "False"
      ]
     },
     "execution_count": 14,
     "metadata": {},
     "output_type": "execute_result"
    }
   ],
   "source": [
    "s3.issubset(s4)"
   ]
  },
  {
   "cell_type": "code",
   "execution_count": 16,
   "id": "b4ed4387",
   "metadata": {},
   "outputs": [
    {
     "data": {
      "text/plain": [
       "False"
      ]
     },
     "execution_count": 16,
     "metadata": {},
     "output_type": "execute_result"
    }
   ],
   "source": [
    "s4.issuperset(s3)"
   ]
  },
  {
   "cell_type": "markdown",
   "id": "39079ac8",
   "metadata": {},
   "source": [
    "# STRINGS"
   ]
  },
  {
   "cell_type": "code",
   "execution_count": 17,
   "id": "f20509d8",
   "metadata": {},
   "outputs": [
    {
     "name": "stdout",
     "output_type": "stream",
     "text": [
      "Hii Iam Akshitha\n",
      "<class 'str'>\n",
      "<class 'str'>\n"
     ]
    }
   ],
   "source": [
    "str1 = \"Hii Iam Akshitha\"\n",
    "str2 = 'From aiml alpha'\n",
    "str3 = '''2311cs020001'''\n",
    "\n",
    "print(str1)\n",
    "print(type(str2))\n",
    "print(type(str3))"
   ]
  },
  {
   "cell_type": "code",
   "execution_count": 21,
   "id": "49ddc841",
   "metadata": {},
   "outputs": [
    {
     "name": "stdout",
     "output_type": "stream",
     "text": [
      "Hii Iam Akshitha\n"
     ]
    },
    {
     "data": {
      "text/plain": [
       "'i Iam '"
      ]
     },
     "execution_count": 21,
     "metadata": {},
     "output_type": "execute_result"
    }
   ],
   "source": [
    "print(str1)\n",
    "str1[2:8]"
   ]
  },
  {
   "cell_type": "code",
   "execution_count": 22,
   "id": "8fe36277",
   "metadata": {},
   "outputs": [
    {
     "name": "stdout",
     "output_type": "stream",
     "text": [
      "Hii Iam Akshitha\n"
     ]
    },
    {
     "data": {
      "text/plain": [
       "['Hii', 'Iam', 'Akshitha']"
      ]
     },
     "execution_count": 22,
     "metadata": {},
     "output_type": "execute_result"
    }
   ],
   "source": [
    "print(str1)\n",
    "str1.split()  #split method in string"
   ]
  },
  {
   "cell_type": "code",
   "execution_count": 23,
   "id": "cfbed9e3",
   "metadata": {},
   "outputs": [
    {
     "data": {
      "text/plain": [
       "'FHii Iam AkshitharHii Iam AkshithaoHii Iam AkshithamHii Iam Akshitha Hii Iam AkshithaaHii Iam AkshithaiHii Iam AkshithamHii Iam AkshithalHii Iam Akshitha Hii Iam AkshithaaHii Iam AkshithalHii Iam AkshithapHii Iam AkshithahHii Iam Akshithaa'"
      ]
     },
     "execution_count": 23,
     "metadata": {},
     "output_type": "execute_result"
    }
   ],
   "source": [
    "str1.join(str2)"
   ]
  },
  {
   "cell_type": "code",
   "execution_count": 25,
   "id": "6929026d",
   "metadata": {},
   "outputs": [
    {
     "data": {
      "text/plain": [
       "'M a l l a   R e d d y   U n i v e r s i t y'"
      ]
     },
     "execution_count": 25,
     "metadata": {},
     "output_type": "execute_result"
    }
   ],
   "source": [
    "str3 = \"Malla Reddy University\"\n",
    "\" \".join(str3)   #join method"
   ]
  },
  {
   "cell_type": "code",
   "execution_count": 31,
   "id": "428eeb7b",
   "metadata": {},
   "outputs": [
    {
     "name": "stdout",
     "output_type": "stream",
     "text": [
      "    Akshitha Alluri   \n"
     ]
    }
   ],
   "source": [
    "str4 = \"    Akshitha Alluri   \"\n",
    "print(str4)"
   ]
  },
  {
   "cell_type": "code",
   "execution_count": 30,
   "id": "b6f1606f",
   "metadata": {},
   "outputs": [
    {
     "data": {
      "text/plain": [
       "'Akshitha Alluri'"
      ]
     },
     "execution_count": 30,
     "metadata": {},
     "output_type": "execute_result"
    }
   ],
   "source": [
    "str4.strip()"
   ]
  },
  {
   "cell_type": "code",
   "execution_count": 33,
   "id": "f779f25f",
   "metadata": {},
   "outputs": [
    {
     "name": "stdout",
     "output_type": "stream",
     "text": [
      "ProductID {101, 102, 103, 104, 105, 106, 107, 108, 109, 110},/n\n",
      "ProductName {'Laptop', 'Printer', 'Monitor', 'Tablet', 'Webcam', 'Headphones', 'Keyboard', 'Mouse', 'Chair', 'Desk'},/n\n",
      "Category {'Electronics', 'Accessories', 'Furniture'},/n\n",
      "PriceRange {'High', 'Low', 'Medium'},/n\n",
      "StockAvailable {100, 8, 10, 75, 12, 15, 50, 20, 25, 60},/n\n"
     ]
    }
   ],
   "source": [
    "sales_data = {\n",
    "    \"ProductID\": [101, 102, 103, 104, 105, 106, 107, 108, 109, 110],\n",
    "    \"ProductName\": [\"Laptop\", \"Mouse\", \"Keyboard\", \"Monitor\", \"Chair\", \"Desk\", \"Webcam\", \"Headphones\", \"Printer\", \"Tablet\"],\n",
    "    \"Category\": [\"Electronics\", \"Accessories\", \"Accessories\", \"Electronics\", \"Furniture\", \"Furniture\", \"Electronics\", \"Accessories\", \"Electronics\", \"Electronics\"],\n",
    "    \"PriceRange\": [\"High\", \"Low\", \"Low\", \"Medium\", \"Medium\", \"Medium\", \"Low\", \"Low\", \"Medium\", \"High\"],\n",
    "    \"StockAvailable\": [15, 100, 75, 20, 10, 8, 50, 60, 25, 12],\n",
    "}\n",
    "for k,v in sales_data.items():\n",
    "    print(k,set(v), end =',')\n",
    "    print('/n')"
   ]
  },
  {
   "cell_type": "code",
   "execution_count": 34,
   "id": "7b61cdef",
   "metadata": {},
   "outputs": [
    {
     "data": {
      "text/plain": [
       "{'Review1': {'WordCount': 14,\n",
       "  'UniqueWords': ['prompt',\n",
       "   'versatile',\n",
       "   'quality',\n",
       "   'functionality',\n",
       "   'and',\n",
       "   'excellent',\n",
       "   'delivery',\n",
       "   'the',\n",
       "   'was',\n",
       "   'product',\n",
       "   'is']},\n",
       " 'Review2': {'WordCount': 15,\n",
       "  'UniqueWords': ['to',\n",
       "   'better',\n",
       "   'service',\n",
       "   'could',\n",
       "   'have',\n",
       "   'been',\n",
       "   'good',\n",
       "   'packaging',\n",
       "   'has',\n",
       "   'improve',\n",
       "   'but',\n",
       "   'customer',\n",
       "   'the']},\n",
       " 'Review3': {'WordCount': 18,\n",
       "  'UniqueWords': ['not',\n",
       "   'helpful',\n",
       "   'fine',\n",
       "   'is',\n",
       "   'rate',\n",
       "   'as',\n",
       "   'i',\n",
       "   'excellent',\n",
       "   'support',\n",
       "   'the',\n",
       "   'but',\n",
       "   'works',\n",
       "   'product',\n",
       "   'very',\n",
       "   'customer']}}"
      ]
     },
     "execution_count": 34,
     "metadata": {},
     "output_type": "execute_result"
    }
   ],
   "source": [
    "reviews = {\n",
    "    \"Review1\": \"The product quality is excellent and delivery was prompt. The product functionality is versatile\",\n",
    "    \"Review2\": \"Good service but the packaging could have been better. The customer service has to improve\",\n",
    "    \"Review3\": \"The product works fine, but the customer support is not very helpful. I rate the product as excellent\",\n",
    "}\n",
    "\n",
    "review_analysis = {}\n",
    "\n",
    "for key, review in reviews.items():\n",
    "    words = review.lower().replace('.', '').replace(',', '').split()\n",
    "    review_analysis[key] = {\n",
    "        \"WordCount\": len(words),\n",
    "        \"UniqueWords\": list(set(words))\n",
    "    }\n",
    "\n",
    "review_analysis\n"
   ]
  },
  {
   "cell_type": "code",
   "execution_count": null,
   "id": "78cf041f",
   "metadata": {},
   "outputs": [],
   "source": []
  },
  {
   "cell_type": "code",
   "execution_count": null,
   "id": "67e98c3b",
   "metadata": {},
   "outputs": [],
   "source": []
  }
 ],
 "metadata": {
  "kernelspec": {
   "display_name": "Python 3 (ipykernel)",
   "language": "python",
   "name": "python3"
  },
  "language_info": {
   "codemirror_mode": {
    "name": "ipython",
    "version": 3
   },
   "file_extension": ".py",
   "mimetype": "text/x-python",
   "name": "python",
   "nbconvert_exporter": "python",
   "pygments_lexer": "ipython3",
   "version": "3.11.5"
  }
 },
 "nbformat": 4,
 "nbformat_minor": 5
}
