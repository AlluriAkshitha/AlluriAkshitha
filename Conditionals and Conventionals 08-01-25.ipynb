{
 "cells": [
  {
   "cell_type": "code",
   "execution_count": 1,
   "id": "ad965435",
   "metadata": {},
   "outputs": [
    {
     "name": "stdout",
     "output_type": "stream",
     "text": [
      "even\n"
     ]
    }
   ],
   "source": [
    "num = 6\n",
    "if num % 2 == 0:\n",
    "    print(\"even\")\n",
    "else:\n",
    "    print(\"Odd\")"
   ]
  },
  {
   "cell_type": "code",
   "execution_count": 4,
   "id": "f617f255",
   "metadata": {},
   "outputs": [
    {
     "name": "stdout",
     "output_type": "stream",
     "text": [
      "even\n"
     ]
    }
   ],
   "source": [
    "a = 6\n",
    "print (\"even\") if num % 2 == 0 else print(\"Odd\")"
   ]
  },
  {
   "cell_type": "code",
   "execution_count": 8,
   "id": "31375086",
   "metadata": {},
   "outputs": [
    {
     "name": "stdout",
     "output_type": "stream",
     "text": [
      "Negative\n"
     ]
    }
   ],
   "source": [
    "x = -5\n",
    "result = \"Positive\" if x > 0 else \"Negative\"\n",
    "print(result)"
   ]
  },
  {
   "cell_type": "code",
   "execution_count": 11,
   "id": "e11648d2",
   "metadata": {},
   "outputs": [
    {
     "name": "stdout",
     "output_type": "stream",
     "text": [
      "Adult\n"
     ]
    }
   ],
   "source": [
    "age = 18\n",
    "category = \"Adult\" if age >= 18 else \"Minor\"\n",
    "print(category)"
   ]
  },
  {
   "cell_type": "code",
   "execution_count": 13,
   "id": "2252f668",
   "metadata": {},
   "outputs": [
    {
     "name": "stdout",
     "output_type": "stream",
     "text": [
      "Enter a number: -8\n",
      "Negative\n"
     ]
    }
   ],
   "source": [
    "#nested if-else in oneline using user input\n",
    "num = int(input(\"Enter a number: \"))\n",
    "result = \"Positive\" if num > 0 else (\"Negative\" if num < 0 else \"Zero\")\n",
    "print(result)"
   ]
  },
  {
   "cell_type": "code",
   "execution_count": 14,
   "id": "2e86d876",
   "metadata": {},
   "outputs": [
    {
     "data": {
      "text/plain": [
       "[2, 6, 4, 14, 68, 50, 18]"
      ]
     },
     "execution_count": 14,
     "metadata": {},
     "output_type": "execute_result"
    }
   ],
   "source": [
    "#use a list comprehension\n",
    "L = [1,3,2,7,34,25,9]\n",
    "[2*x for x in L]\n"
   ]
  },
  {
   "cell_type": "code",
   "execution_count": 16,
   "id": "f3ce54fc",
   "metadata": {},
   "outputs": [
    {
     "data": {
      "text/plain": [
       "[6]"
      ]
     },
     "execution_count": 16,
     "metadata": {},
     "output_type": "execute_result"
    }
   ],
   "source": [
    "#List comprehension with if conditions\n",
    "L = [1,3,23,7.442,6]\n",
    "[x for x in L if x%2 == 0]"
   ]
  },
  {
   "cell_type": "code",
   "execution_count": 17,
   "id": "d41198a4",
   "metadata": {},
   "outputs": [
    {
     "data": {
      "text/plain": [
       "[1, 63, 7, 3]"
      ]
     },
     "execution_count": 17,
     "metadata": {},
     "output_type": "execute_result"
    }
   ],
   "source": [
    "L = [1,2,4,63,7,3,8]\n",
    "[x for x in L if x%2 != 0]"
   ]
  },
  {
   "cell_type": "code",
   "execution_count": 23,
   "id": "5e991868",
   "metadata": {},
   "outputs": [
    {
     "name": "stdout",
     "output_type": "stream",
     "text": [
      "Updated Salaries: [48000.0, 60000, 80000, 54000.0]\n"
     ]
    }
   ],
   "source": [
    "#print updated salaries\n",
    "#condition is given 20% hike for salaries below 50000\n",
    "sal = [40000, 60000, 80000, 45000]\n",
    "updated_sal = [salary * 1.2 if salary <= 50000 else salary for salary in sal]\n",
    "\n",
    "print(\"Updated Salaries:\", updated_sal)\n"
   ]
  },
  {
   "cell_type": "code",
   "execution_count": 24,
   "id": "cae2ca04",
   "metadata": {},
   "outputs": [
    {
     "data": {
      "text/plain": [
       "[48000.0, 60000, 80000, 54000.0]"
      ]
     },
     "execution_count": 24,
     "metadata": {},
     "output_type": "execute_result"
    }
   ],
   "source": [
    "[(x*1.2 if x <= 50000 else x) for x in sal]"
   ]
  },
  {
   "cell_type": "code",
   "execution_count": 29,
   "id": "0aa4a206",
   "metadata": {},
   "outputs": [
    {
     "data": {
      "text/plain": [
       "{'Ram': [70, 71, 98, 100], 'John': [56, 98, 67, 65]}"
      ]
     },
     "execution_count": 29,
     "metadata": {},
     "output_type": "execute_result"
    }
   ],
   "source": [
    "#dictionary comprehension\n",
    "d1 = {'Ram':[70,71,98,100], 'John':[56,98,67,65]}\n",
    "d1"
   ]
  },
  {
   "cell_type": "code",
   "execution_count": 31,
   "id": "bf482e6c",
   "metadata": {},
   "outputs": [
    {
     "data": {
      "text/plain": [
       "{'Ram': 84.75, 'John': 71.5}"
      ]
     },
     "execution_count": 31,
     "metadata": {},
     "output_type": "execute_result"
    }
   ],
   "source": [
    "{k:sum(v)/len(v) for k,v in d1.items()}"
   ]
  },
  {
   "cell_type": "markdown",
   "id": "d09bdee2",
   "metadata": {},
   "source": [
    "# user defined functions"
   ]
  },
  {
   "cell_type": "code",
   "execution_count": 32,
   "id": "2399f95b",
   "metadata": {},
   "outputs": [],
   "source": [
    "#define function (reusable)\n",
    "def mean_value(given_list):       #given_list = argument(one or more or none arguments can be passed to a user defined function)\n",
    "    total = sum(given_list)\n",
    "    avg_value = total/len(given_list)\n",
    "    return avg_value"
   ]
  },
  {
   "cell_type": "code",
   "execution_count": 33,
   "id": "61c021b7",
   "metadata": {},
   "outputs": [
    {
     "data": {
      "text/plain": [
       "5.5"
      ]
     },
     "execution_count": 33,
     "metadata": {},
     "output_type": "execute_result"
    }
   ],
   "source": [
    "#Calling the function\n",
    "L = [1,2,3,4,5,6,7,8,9,10]\n",
    "mean_value(L)"
   ]
  },
  {
   "cell_type": "code",
   "execution_count": 40,
   "id": "3772e653",
   "metadata": {},
   "outputs": [],
   "source": [
    "def greet(name):\n",
    "    print(f\"Good morning {name}!\")"
   ]
  },
  {
   "cell_type": "code",
   "execution_count": 41,
   "id": "50432f28",
   "metadata": {},
   "outputs": [
    {
     "name": "stdout",
     "output_type": "stream",
     "text": [
      "Good morning Akshitha!\n"
     ]
    }
   ],
   "source": [
    "greet(\"Akshitha\")"
   ]
  },
  {
   "cell_type": "code",
   "execution_count": null,
   "id": "a39bf76c",
   "metadata": {},
   "outputs": [],
   "source": [
    "def greet(name= 'Akshitha'):\n",
    "    print(f\"Good morning {name}!\") #defined argument function here Akshitha is overwritten "
   ]
  },
  {
   "cell_type": "code",
   "execution_count": 45,
   "id": "1e837506",
   "metadata": {},
   "outputs": [
    {
     "name": "stdout",
     "output_type": "stream",
     "text": [
      "Good morning Akshu!\n"
     ]
    }
   ],
   "source": [
    "greet(\"Akshu\")"
   ]
  },
  {
   "cell_type": "code",
   "execution_count": 49,
   "id": "526f4fd8",
   "metadata": {},
   "outputs": [],
   "source": [
    "#variable number of arguments\n",
    "def avg_value(*n):     #here * is n number of variables,the numbers supplied will be treated as tuples\n",
    "    l = len(n)\n",
    "    avg = sum(n)/l\n",
    "    return avg"
   ]
  },
  {
   "cell_type": "code",
   "execution_count": 48,
   "id": "ba86f110",
   "metadata": {},
   "outputs": [
    {
     "data": {
      "text/plain": [
       "120.0"
      ]
     },
     "execution_count": 48,
     "metadata": {},
     "output_type": "execute_result"
    }
   ],
   "source": [
    "avg_value(10,20,30,40,500)"
   ]
  },
  {
   "cell_type": "code",
   "execution_count": null,
   "id": "af65aaf4",
   "metadata": {},
   "outputs": [],
   "source": []
  }
 ],
 "metadata": {
  "kernelspec": {
   "display_name": "Python 3 (ipykernel)",
   "language": "python",
   "name": "python3"
  },
  "language_info": {
   "codemirror_mode": {
    "name": "ipython",
    "version": 3
   },
   "file_extension": ".py",
   "mimetype": "text/x-python",
   "name": "python",
   "nbconvert_exporter": "python",
   "pygments_lexer": "ipython3",
   "version": "3.11.5"
  }
 },
 "nbformat": 4,
 "nbformat_minor": 5
}
