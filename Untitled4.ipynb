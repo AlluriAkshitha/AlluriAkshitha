{
 "cells": [
  {
   "cell_type": "code",
   "execution_count": 1,
   "id": "a3bf23af",
   "metadata": {},
   "outputs": [
    {
     "name": "stdout",
     "output_type": "stream",
     "text": [
      "Enter a positive integer: 4\n",
      "The sum of all even numbers between 1 and 4 is: 6\n"
     ]
    }
   ],
   "source": [
    "n = int(input(\"Enter a positive integer: \"))\n",
    "\n",
    "even_sum = 0\n",
    "\n",
    "for i in range(1, n + 1):\n",
    "    if i % 2 == 0: \n",
    "        even_sum += i\n",
    "\n",
    "print(f\"The sum of all even numbers between 1 and {n} is: {even_sum}\")\n"
   ]
  },
  {
   "cell_type": "code",
   "execution_count": null,
   "id": "9c7ca14e",
   "metadata": {},
   "outputs": [],
   "source": []
  }
 ],
 "metadata": {
  "kernelspec": {
   "display_name": "Python 3 (ipykernel)",
   "language": "python",
   "name": "python3"
  },
  "language_info": {
   "codemirror_mode": {
    "name": "ipython",
    "version": 3
   },
   "file_extension": ".py",
   "mimetype": "text/x-python",
   "name": "python",
   "nbconvert_exporter": "python",
   "pygments_lexer": "ipython3",
   "version": "3.11.5"
  }
 },
 "nbformat": 4,
 "nbformat_minor": 5
}
