{
 "cells": [
  {
   "cell_type": "code",
   "execution_count": null,
   "id": "a9163fab",
   "metadata": {},
   "outputs": [],
   "source": [
    "greet = lambda name : print(f\"Good Morning {name}!\") "
   ]
  },
  {
   "cell_type": "code",
   "execution_count": null,
   "id": "66464f12",
   "metadata": {},
   "outputs": [],
   "source": [
    "product = lambda x, y, z: x * y * z"
   ]
  },
  {
   "cell_type": "code",
   "execution_count": null,
   "id": "c6b11fe8",
   "metadata": {},
   "outputs": [],
   "source": [
    "even = lambda L : [x for x in L if x%2 == 0]\n",
    "my_list = [12,23,14,5,7,9,63] "
   ]
  }
 ],
 "metadata": {
  "kernelspec": {
   "display_name": "Python 3 (ipykernel)",
   "language": "python",
   "name": "python3"
  },
  "language_info": {
   "codemirror_mode": {
    "name": "ipython",
    "version": 3
   },
   "file_extension": ".py",
   "mimetype": "text/x-python",
   "name": "python",
   "nbconvert_exporter": "python",
   "pygments_lexer": "ipython3",
   "version": "3.11.5"
  }
 },
 "nbformat": 4,
 "nbformat_minor": 5
}
