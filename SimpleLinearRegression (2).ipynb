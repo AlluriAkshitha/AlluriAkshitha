{
 "cells": [
  {
   "cell_type": "code",
   "execution_count": 1,
   "id": "a3b4500f",
   "metadata": {},
   "outputs": [],
   "source": [
    "import pandas as pd\n",
    "import numpy as np\n",
    "import seaborn as sns\n",
    "import matplotlib.pyplot as plt\n",
    "import statsmodels.formula.api as smf"
   ]
  },
  {
   "cell_type": "code",
   "execution_count": 2,
   "id": "69084e26",
   "metadata": {},
   "outputs": [
    {
     "data": {
      "text/html": [
       "<div>\n",
       "<style scoped>\n",
       "    .dataframe tbody tr th:only-of-type {\n",
       "        vertical-align: middle;\n",
       "    }\n",
       "\n",
       "    .dataframe tbody tr th {\n",
       "        vertical-align: top;\n",
       "    }\n",
       "\n",
       "    .dataframe thead th {\n",
       "        text-align: right;\n",
       "    }\n",
       "</style>\n",
       "<table border=\"1\" class=\"dataframe\">\n",
       "  <thead>\n",
       "    <tr style=\"text-align: right;\">\n",
       "      <th></th>\n",
       "      <th>Newspaper</th>\n",
       "      <th>daily</th>\n",
       "      <th>sunday</th>\n",
       "    </tr>\n",
       "  </thead>\n",
       "  <tbody>\n",
       "    <tr>\n",
       "      <th>0</th>\n",
       "      <td>Baltimore Sun</td>\n",
       "      <td>391.952</td>\n",
       "      <td>488.506</td>\n",
       "    </tr>\n",
       "    <tr>\n",
       "      <th>1</th>\n",
       "      <td>Boston Globe</td>\n",
       "      <td>516.981</td>\n",
       "      <td>798.298</td>\n",
       "    </tr>\n",
       "    <tr>\n",
       "      <th>2</th>\n",
       "      <td>Boston Herald</td>\n",
       "      <td>355.628</td>\n",
       "      <td>235.084</td>\n",
       "    </tr>\n",
       "    <tr>\n",
       "      <th>3</th>\n",
       "      <td>Charlotte Observer</td>\n",
       "      <td>238.555</td>\n",
       "      <td>299.451</td>\n",
       "    </tr>\n",
       "    <tr>\n",
       "      <th>4</th>\n",
       "      <td>Chicago Sun Times</td>\n",
       "      <td>537.780</td>\n",
       "      <td>559.093</td>\n",
       "    </tr>\n",
       "    <tr>\n",
       "      <th>5</th>\n",
       "      <td>Chicago Tribune</td>\n",
       "      <td>733.775</td>\n",
       "      <td>1133.249</td>\n",
       "    </tr>\n",
       "    <tr>\n",
       "      <th>6</th>\n",
       "      <td>Cincinnati Enquirer</td>\n",
       "      <td>198.832</td>\n",
       "      <td>348.744</td>\n",
       "    </tr>\n",
       "    <tr>\n",
       "      <th>7</th>\n",
       "      <td>Denver Post</td>\n",
       "      <td>252.624</td>\n",
       "      <td>417.779</td>\n",
       "    </tr>\n",
       "    <tr>\n",
       "      <th>8</th>\n",
       "      <td>Des Moines Register</td>\n",
       "      <td>206.204</td>\n",
       "      <td>344.522</td>\n",
       "    </tr>\n",
       "    <tr>\n",
       "      <th>9</th>\n",
       "      <td>Hartford Courant</td>\n",
       "      <td>231.177</td>\n",
       "      <td>323.084</td>\n",
       "    </tr>\n",
       "    <tr>\n",
       "      <th>10</th>\n",
       "      <td>Houston Chronicle</td>\n",
       "      <td>449.755</td>\n",
       "      <td>620.752</td>\n",
       "    </tr>\n",
       "    <tr>\n",
       "      <th>11</th>\n",
       "      <td>Kansas City Star</td>\n",
       "      <td>288.571</td>\n",
       "      <td>423.305</td>\n",
       "    </tr>\n",
       "    <tr>\n",
       "      <th>12</th>\n",
       "      <td>Los Angeles Daily  News</td>\n",
       "      <td>185.736</td>\n",
       "      <td>202.614</td>\n",
       "    </tr>\n",
       "    <tr>\n",
       "      <th>13</th>\n",
       "      <td>Los Angeles Times</td>\n",
       "      <td>1164.388</td>\n",
       "      <td>1531.527</td>\n",
       "    </tr>\n",
       "    <tr>\n",
       "      <th>14</th>\n",
       "      <td>Miami Herald</td>\n",
       "      <td>444.581</td>\n",
       "      <td>553.479</td>\n",
       "    </tr>\n",
       "    <tr>\n",
       "      <th>15</th>\n",
       "      <td>Minneapolis Star Tribune</td>\n",
       "      <td>412.871</td>\n",
       "      <td>685.975</td>\n",
       "    </tr>\n",
       "    <tr>\n",
       "      <th>16</th>\n",
       "      <td>New Orleans Times-Picayune</td>\n",
       "      <td>272.280</td>\n",
       "      <td>324.241</td>\n",
       "    </tr>\n",
       "    <tr>\n",
       "      <th>17</th>\n",
       "      <td>New York Daily News</td>\n",
       "      <td>781.796</td>\n",
       "      <td>983.240</td>\n",
       "    </tr>\n",
       "    <tr>\n",
       "      <th>18</th>\n",
       "      <td>New York Times</td>\n",
       "      <td>1209.225</td>\n",
       "      <td>1762.015</td>\n",
       "    </tr>\n",
       "    <tr>\n",
       "      <th>19</th>\n",
       "      <td>Newsday</td>\n",
       "      <td>825.512</td>\n",
       "      <td>960.308</td>\n",
       "    </tr>\n",
       "    <tr>\n",
       "      <th>20</th>\n",
       "      <td>Omaha World Herald</td>\n",
       "      <td>223.748</td>\n",
       "      <td>284.611</td>\n",
       "    </tr>\n",
       "    <tr>\n",
       "      <th>21</th>\n",
       "      <td>Orange County Register</td>\n",
       "      <td>354.843</td>\n",
       "      <td>407.760</td>\n",
       "    </tr>\n",
       "    <tr>\n",
       "      <th>22</th>\n",
       "      <td>Philadelphia Inquirer</td>\n",
       "      <td>515.523</td>\n",
       "      <td>982.663</td>\n",
       "    </tr>\n",
       "    <tr>\n",
       "      <th>23</th>\n",
       "      <td>Pittsburgh Press</td>\n",
       "      <td>220.465</td>\n",
       "      <td>557.000</td>\n",
       "    </tr>\n",
       "    <tr>\n",
       "      <th>24</th>\n",
       "      <td>Portland Oregonian</td>\n",
       "      <td>337.672</td>\n",
       "      <td>440.923</td>\n",
       "    </tr>\n",
       "    <tr>\n",
       "      <th>25</th>\n",
       "      <td>Providence Journal-Bulletin</td>\n",
       "      <td>197.120</td>\n",
       "      <td>268.060</td>\n",
       "    </tr>\n",
       "    <tr>\n",
       "      <th>26</th>\n",
       "      <td>Rochester Democrat &amp; Chronicle</td>\n",
       "      <td>133.239</td>\n",
       "      <td>262.048</td>\n",
       "    </tr>\n",
       "    <tr>\n",
       "      <th>27</th>\n",
       "      <td>Rocky Mountain News</td>\n",
       "      <td>374.009</td>\n",
       "      <td>432.502</td>\n",
       "    </tr>\n",
       "    <tr>\n",
       "      <th>28</th>\n",
       "      <td>Sacramento Bee</td>\n",
       "      <td>273.844</td>\n",
       "      <td>338.355</td>\n",
       "    </tr>\n",
       "    <tr>\n",
       "      <th>29</th>\n",
       "      <td>San Francisco Chronicle</td>\n",
       "      <td>570.364</td>\n",
       "      <td>704.322</td>\n",
       "    </tr>\n",
       "    <tr>\n",
       "      <th>30</th>\n",
       "      <td>St. Louis Post-Dispatch</td>\n",
       "      <td>391.286</td>\n",
       "      <td>585.681</td>\n",
       "    </tr>\n",
       "    <tr>\n",
       "      <th>31</th>\n",
       "      <td>St. Paul Pioneer Press</td>\n",
       "      <td>201.860</td>\n",
       "      <td>267.781</td>\n",
       "    </tr>\n",
       "    <tr>\n",
       "      <th>32</th>\n",
       "      <td>Tampa Tribune</td>\n",
       "      <td>321.626</td>\n",
       "      <td>408.343</td>\n",
       "    </tr>\n",
       "    <tr>\n",
       "      <th>33</th>\n",
       "      <td>Washington Post</td>\n",
       "      <td>838.902</td>\n",
       "      <td>1165.567</td>\n",
       "    </tr>\n",
       "  </tbody>\n",
       "</table>\n",
       "</div>"
      ],
      "text/plain": [
       "                         Newspaper     daily    sunday\n",
       "0                    Baltimore Sun   391.952   488.506\n",
       "1                     Boston Globe   516.981   798.298\n",
       "2                    Boston Herald   355.628   235.084\n",
       "3               Charlotte Observer   238.555   299.451\n",
       "4                Chicago Sun Times   537.780   559.093\n",
       "5                  Chicago Tribune   733.775  1133.249\n",
       "6              Cincinnati Enquirer   198.832   348.744\n",
       "7                      Denver Post   252.624   417.779\n",
       "8              Des Moines Register   206.204   344.522\n",
       "9                 Hartford Courant   231.177   323.084\n",
       "10               Houston Chronicle   449.755   620.752\n",
       "11                Kansas City Star   288.571   423.305\n",
       "12         Los Angeles Daily  News   185.736   202.614\n",
       "13               Los Angeles Times  1164.388  1531.527\n",
       "14                    Miami Herald   444.581   553.479\n",
       "15        Minneapolis Star Tribune   412.871   685.975\n",
       "16      New Orleans Times-Picayune   272.280   324.241\n",
       "17             New York Daily News   781.796   983.240\n",
       "18                  New York Times  1209.225  1762.015\n",
       "19                         Newsday   825.512   960.308\n",
       "20              Omaha World Herald   223.748   284.611\n",
       "21          Orange County Register   354.843   407.760\n",
       "22           Philadelphia Inquirer   515.523   982.663\n",
       "23                Pittsburgh Press   220.465   557.000\n",
       "24              Portland Oregonian   337.672   440.923\n",
       "25     Providence Journal-Bulletin   197.120   268.060\n",
       "26  Rochester Democrat & Chronicle   133.239   262.048\n",
       "27             Rocky Mountain News   374.009   432.502\n",
       "28                  Sacramento Bee   273.844   338.355\n",
       "29         San Francisco Chronicle   570.364   704.322\n",
       "30         St. Louis Post-Dispatch   391.286   585.681\n",
       "31          St. Paul Pioneer Press   201.860   267.781\n",
       "32                   Tampa Tribune   321.626   408.343\n",
       "33                 Washington Post   838.902  1165.567"
      ]
     },
     "execution_count": 2,
     "metadata": {},
     "output_type": "execute_result"
    }
   ],
   "source": [
    "data1 = pd.read_csv(\"NewspaperData.csv\")\n",
    "data1"
   ]
  },
  {
   "cell_type": "code",
   "execution_count": 3,
   "id": "0cae0265",
   "metadata": {},
   "outputs": [
    {
     "name": "stdout",
     "output_type": "stream",
     "text": [
      "<class 'pandas.core.frame.DataFrame'>\n",
      "RangeIndex: 34 entries, 0 to 33\n",
      "Data columns (total 3 columns):\n",
      " #   Column     Non-Null Count  Dtype  \n",
      "---  ------     --------------  -----  \n",
      " 0   Newspaper  34 non-null     object \n",
      " 1   daily      34 non-null     float64\n",
      " 2   sunday     34 non-null     float64\n",
      "dtypes: float64(2), object(1)\n",
      "memory usage: 948.0+ bytes\n"
     ]
    }
   ],
   "source": [
    "data1.info()"
   ]
  },
  {
   "cell_type": "markdown",
   "id": "962a73d6",
   "metadata": {},
   "source": [
    "## Observations\n",
    "* there are three columns and no missing values"
   ]
  },
  {
   "cell_type": "code",
   "execution_count": 4,
   "id": "7ebf4c74",
   "metadata": {},
   "outputs": [
    {
     "data": {
      "text/html": [
       "<div>\n",
       "<style scoped>\n",
       "    .dataframe tbody tr th:only-of-type {\n",
       "        vertical-align: middle;\n",
       "    }\n",
       "\n",
       "    .dataframe tbody tr th {\n",
       "        vertical-align: top;\n",
       "    }\n",
       "\n",
       "    .dataframe thead th {\n",
       "        text-align: right;\n",
       "    }\n",
       "</style>\n",
       "<table border=\"1\" class=\"dataframe\">\n",
       "  <thead>\n",
       "    <tr style=\"text-align: right;\">\n",
       "      <th></th>\n",
       "      <th>daily</th>\n",
       "      <th>sunday</th>\n",
       "    </tr>\n",
       "  </thead>\n",
       "  <tbody>\n",
       "    <tr>\n",
       "      <th>count</th>\n",
       "      <td>34.000000</td>\n",
       "      <td>34.000000</td>\n",
       "    </tr>\n",
       "    <tr>\n",
       "      <th>mean</th>\n",
       "      <td>430.962471</td>\n",
       "      <td>591.202412</td>\n",
       "    </tr>\n",
       "    <tr>\n",
       "      <th>std</th>\n",
       "      <td>269.211470</td>\n",
       "      <td>376.418051</td>\n",
       "    </tr>\n",
       "    <tr>\n",
       "      <th>min</th>\n",
       "      <td>133.239000</td>\n",
       "      <td>202.614000</td>\n",
       "    </tr>\n",
       "    <tr>\n",
       "      <th>25%</th>\n",
       "      <td>233.021500</td>\n",
       "      <td>327.769500</td>\n",
       "    </tr>\n",
       "    <tr>\n",
       "      <th>50%</th>\n",
       "      <td>355.235500</td>\n",
       "      <td>436.712500</td>\n",
       "    </tr>\n",
       "    <tr>\n",
       "      <th>75%</th>\n",
       "      <td>516.616500</td>\n",
       "      <td>699.735250</td>\n",
       "    </tr>\n",
       "    <tr>\n",
       "      <th>max</th>\n",
       "      <td>1209.225000</td>\n",
       "      <td>1762.015000</td>\n",
       "    </tr>\n",
       "  </tbody>\n",
       "</table>\n",
       "</div>"
      ],
      "text/plain": [
       "             daily       sunday\n",
       "count    34.000000    34.000000\n",
       "mean    430.962471   591.202412\n",
       "std     269.211470   376.418051\n",
       "min     133.239000   202.614000\n",
       "25%     233.021500   327.769500\n",
       "50%     355.235500   436.712500\n",
       "75%     516.616500   699.735250\n",
       "max    1209.225000  1762.015000"
      ]
     },
     "execution_count": 4,
     "metadata": {},
     "output_type": "execute_result"
    }
   ],
   "source": [
    "data1.describe()"
   ]
  },
  {
   "cell_type": "code",
   "execution_count": 5,
   "id": "b367df51",
   "metadata": {},
   "outputs": [
    {
     "data": {
      "text/plain": [
       "Newspaper    0\n",
       "daily        0\n",
       "sunday       0\n",
       "dtype: int64"
      ]
     },
     "execution_count": 5,
     "metadata": {},
     "output_type": "execute_result"
    }
   ],
   "source": [
    "data1.isnull().sum()"
   ]
  },
  {
   "cell_type": "code",
   "execution_count": 6,
   "id": "074ecd58",
   "metadata": {},
   "outputs": [
    {
     "data": {
      "image/png": "[encoded data removed]",
      "text/plain": [
       "<Figure size 800x600 with 2 Axes>"
      ]
     },
     "metadata": {},
     "output_type": "display_data"
    }
   ],
   "source": [
    "fig, axes = plt.subplots(2, 1, figsize=(8,6), gridspec_kw={'height_ratios': [1, 3]})\n",
    "\n",
    "sns.boxplot(data=data1[\"daily\"], ax=axes[0], color='skyblue', width=0.5, orient = 'h')\n",
    "axes[0].set_title(\"Boxplot\")\n",
    "axes[0].set_xlabel(\"daily\")\n",
    "\n",
    "sns.histplot(data1['daily'], kde=True, ax=axes[1], color='purple', bins=30)\n",
    "axes[1].set_title(\"Histogram with KDE\")\n",
    "axes[1].set_xlabel(\"daily\")\n",
    "axes[1].set_ylabel(\"Frequency\")\n",
    "\n",
    "plt.tight_layout()\n",
    "\n",
    "plt.show()"
   ]
  },
  {
   "cell_type": "markdown",
   "id": "85a17834",
   "metadata": {},
   "source": [
    "## Observations\n",
    "* The Daily column has values beyond 1100 as seen from the boxplot\n",
    "* The same is confirmed from the right-skewed histogram\n",
    "* Daily column vakues appears to be right-skewed\n",
    "* Sunday column vakues appears to be right-skewed\n",
    "* Two outliers"
   ]
  },
  {
   "cell_type": "code",
   "execution_count": 7,
   "id": "40a4de03",
   "metadata": {},
   "outputs": [
    {
     "data": {
      "text/plain": [
       "count      34.000000\n",
       "mean      430.962471\n",
       "std       269.211470\n",
       "min       133.239000\n",
       "25%       233.021500\n",
       "50%       355.235500\n",
       "75%       516.616500\n",
       "max      1209.225000\n",
       "Name: daily, dtype: float64"
      ]
     },
     "execution_count": 7,
     "metadata": {},
     "output_type": "execute_result"
    }
   ],
   "source": [
    "data1[\"daily\"].describe()"
   ]
  },
  {
   "cell_type": "code",
   "execution_count": 13,
   "id": "453d81e7",
   "metadata": {},
   "outputs": [
    {
     "data": {
      "image/png": "[encoded data removed]",
      "text/plain": [
       "<Figure size 640x480 with 1 Axes>"
      ]
     },
     "metadata": {},
     "output_type": "display_data"
    }
   ],
   "source": [
    "x = data1[\"daily\"]\n",
    "y = data1[\"sunday\"]\n",
    "plt.scatter(data1[\"daily\"], data1[\"sunday\"])\n",
    "plt.xlim(0, max(x) + 100)\n",
    "plt.ylim(0, max(y) + 100)\n",
    "plt.show()"
   ]
  },
  {
   "cell_type": "code",
   "execution_count": 9,
   "id": "1ebe7d51",
   "metadata": {},
   "outputs": [
    {
     "data": {
      "text/plain": [
       "0.9581543140785462"
      ]
     },
     "execution_count": 9,
     "metadata": {},
     "output_type": "execute_result"
    }
   ],
   "source": [
    "#which exceeds .9 is an excellent correlation\n",
    "data1[\"daily\"].corr(data1[\"sunday\"]) "
   ]
  },
  {
   "cell_type": "code",
   "execution_count": 14,
   "id": "a0d0a5ac",
   "metadata": {},
   "outputs": [
    {
     "data": {
      "text/html": [
       "<div>\n",
       "<style scoped>\n",
       "    .dataframe tbody tr th:only-of-type {\n",
       "        vertical-align: middle;\n",
       "    }\n",
       "\n",
       "    .dataframe tbody tr th {\n",
       "        vertical-align: top;\n",
       "    }\n",
       "\n",
       "    .dataframe thead th {\n",
       "        text-align: right;\n",
       "    }\n",
       "</style>\n",
       "<table border=\"1\" class=\"dataframe\">\n",
       "  <thead>\n",
       "    <tr style=\"text-align: right;\">\n",
       "      <th></th>\n",
       "      <th>daily</th>\n",
       "      <th>sunday</th>\n",
       "    </tr>\n",
       "  </thead>\n",
       "  <tbody>\n",
       "    <tr>\n",
       "      <th>daily</th>\n",
       "      <td>1.000000</td>\n",
       "      <td>0.958154</td>\n",
       "    </tr>\n",
       "    <tr>\n",
       "      <th>sunday</th>\n",
       "      <td>0.958154</td>\n",
       "      <td>1.000000</td>\n",
       "    </tr>\n",
       "  </tbody>\n",
       "</table>\n",
       "</div>"
      ],
      "text/plain": [
       "           daily    sunday\n",
       "daily   1.000000  0.958154\n",
       "sunday  0.958154  1.000000"
      ]
     },
     "execution_count": 14,
     "metadata": {},
     "output_type": "execute_result"
    }
   ],
   "source": [
    "data1.corr(numeric_only=True)"
   ]
  },
  {
   "cell_type": "markdown",
   "id": "e40b9c39",
   "metadata": {},
   "source": [
    "## Observations\n",
    "* The relationship btw x (daily) and y (sunday) is seen to be linear as seen from scatter plot\n",
    "* The correlation is storng and positive with Pearson's correlation coeffiecient of 0.958154"
   ]
  },
  {
   "cell_type": "markdown",
   "id": "10c5d91c",
   "metadata": {},
   "source": [
    "# Fit a Linear Regression"
   ]
  },
  {
   "cell_type": "code",
   "execution_count": 10,
   "id": "72bc4f3a",
   "metadata": {},
   "outputs": [],
   "source": [
    "#build regression model\n",
    "\n",
    "import statsmodels.formula.api as smf\n",
    "model = smf.ols(\"sunday~daily\", data = data1).fit()"
   ]
  },
  {
   "cell_type": "code",
   "execution_count": 11,
   "id": "458ade41",
   "metadata": {},
   "outputs": [
    {
     "data": {
      "text/html": [
       "<table class=\"simpletable\">\n",
       "<caption>OLS Regression Results</caption>\n",
       "<tr>\n",
       "  <th>Dep. Variable:</th>         <td>sunday</td>      <th>  R-squared:         </th> <td>   0.918</td>\n",
       "</tr>\n",
       "<tr>\n",
       "  <th>Model:</th>                   <td>OLS</td>       <th>  Adj. R-squared:    </th> <td>   0.915</td>\n",
       "</tr>\n",
       "<tr>\n",
       "  <th>Method:</th>             <td>Least Squares</td>  <th>  F-statistic:       </th> <td>   358.5</td>\n",
       "</tr>\n",
       "<tr>\n",
       "  <th>Date:</th>             <td>Sat, 01 Feb 2025</td> <th>  Prob (F-statistic):</th> <td>6.02e-19</td>\n",
       "</tr>\n",
       "<tr>\n",
       "  <th>Time:</th>                 <td>10:57:15</td>     <th>  Log-Likelihood:    </th> <td> -206.85</td>\n",
       "</tr>\n",
       "<tr>\n",
       "  <th>No. Observations:</th>      <td>    34</td>      <th>  AIC:               </th> <td>   417.7</td>\n",
       "</tr>\n",
       "<tr>\n",
       "  <th>Df Residuals:</th>          <td>    32</td>      <th>  BIC:               </th> <td>   420.8</td>\n",
       "</tr>\n",
       "<tr>\n",
       "  <th>Df Model:</th>              <td>     1</td>      <th>                     </th>     <td> </td>   \n",
       "</tr>\n",
       "<tr>\n",
       "  <th>Covariance Type:</th>      <td>nonrobust</td>    <th>                     </th>     <td> </td>   \n",
       "</tr>\n",
       "</table>\n",
       "<table class=\"simpletable\">\n",
       "<tr>\n",
       "      <td></td>         <th>coef</th>     <th>std err</th>      <th>t</th>      <th>P>|t|</th>  <th>[0.025</th>    <th>0.975]</th>  \n",
       "</tr>\n",
       "<tr>\n",
       "  <th>Intercept</th> <td>   13.8356</td> <td>   35.804</td> <td>    0.386</td> <td> 0.702</td> <td>  -59.095</td> <td>   86.766</td>\n",
       "</tr>\n",
       "<tr>\n",
       "  <th>daily</th>     <td>    1.3397</td> <td>    0.071</td> <td>   18.935</td> <td> 0.000</td> <td>    1.196</td> <td>    1.484</td>\n",
       "</tr>\n",
       "</table>\n",
       "<table class=\"simpletable\">\n",
       "<tr>\n",
       "  <th>Omnibus:</th>       <td> 3.297</td> <th>  Durbin-Watson:     </th> <td>   2.059</td>\n",
       "</tr>\n",
       "<tr>\n",
       "  <th>Prob(Omnibus):</th> <td> 0.192</td> <th>  Jarque-Bera (JB):  </th> <td>   1.990</td>\n",
       "</tr>\n",
       "<tr>\n",
       "  <th>Skew:</th>          <td> 0.396</td> <th>  Prob(JB):          </th> <td>   0.370</td>\n",
       "</tr>\n",
       "<tr>\n",
       "  <th>Kurtosis:</th>      <td> 3.882</td> <th>  Cond. No.          </th> <td>    965.</td>\n",
       "</tr>\n",
       "</table><br/><br/>Notes:<br/>[1] Standard Errors assume that the covariance matrix of the errors is correctly specified."
      ],
      "text/latex": [
       "\\begin{center}\n",
       "\\begin{tabular}{lclc}\n",
       "\\toprule\n",
       "\\textbf{Dep. Variable:}    &      sunday      & \\textbf{  R-squared:         } &     0.918   \\\\\n",
       "\\textbf{Model:}            &       OLS        & \\textbf{  Adj. R-squared:    } &     0.915   \\\\\n",
       "\\textbf{Method:}           &  Least Squares   & \\textbf{  F-statistic:       } &     358.5   \\\\\n",
       "\\textbf{Date:}             & Sat, 01 Feb 2025 & \\textbf{  Prob (F-statistic):} &  6.02e-19   \\\\\n",
       "\\textbf{Time:}             &     10:57:15     & \\textbf{  Log-Likelihood:    } &   -206.85   \\\\\n",
       "\\textbf{No. Observations:} &          34      & \\textbf{  AIC:               } &     417.7   \\\\\n",
       "\\textbf{Df Residuals:}     &          32      & \\textbf{  BIC:               } &     420.8   \\\\\n",
       "\\textbf{Df Model:}         &           1      & \\textbf{                     } &             \\\\\n",
       "\\textbf{Covariance Type:}  &    nonrobust     & \\textbf{                     } &             \\\\\n",
       "\\bottomrule\n",
       "\\end{tabular}\n",
       "\\begin{tabular}{lcccccc}\n",
       "                   & \\textbf{coef} & \\textbf{std err} & \\textbf{t} & \\textbf{P$> |$t$|$} & \\textbf{[0.025} & \\textbf{0.975]}  \\\\\n",
       "\\midrule\n",
       "\\textbf{Intercept} &      13.8356  &       35.804     &     0.386  &         0.702        &      -59.095    &       86.766     \\\\\n",
       "\\textbf{daily}     &       1.3397  &        0.071     &    18.935  &         0.000        &        1.196    &        1.484     \\\\\n",
       "\\bottomrule\n",
       "\\end{tabular}\n",
       "\\begin{tabular}{lclc}\n",
       "\\textbf{Omnibus:}       &  3.297 & \\textbf{  Durbin-Watson:     } &    2.059  \\\\\n",
       "\\textbf{Prob(Omnibus):} &  0.192 & \\textbf{  Jarque-Bera (JB):  } &    1.990  \\\\\n",
       "\\textbf{Skew:}          &  0.396 & \\textbf{  Prob(JB):          } &    0.370  \\\\\n",
       "\\textbf{Kurtosis:}      &  3.882 & \\textbf{  Cond. No.          } &     965.  \\\\\n",
       "\\bottomrule\n",
       "\\end{tabular}\n",
       "%\\caption{OLS Regression Results}\n",
       "\\end{center}\n",
       "\n",
       "Notes: \\newline\n",
       " [1] Standard Errors assume that the covariance matrix of the errors is correctly specified."
      ],
      "text/plain": [
       "<class 'statsmodels.iolib.summary.Summary'>\n",
       "\"\"\"\n",
       "                            OLS Regression Results                            \n",
       "==============================================================================\n",
       "Dep. Variable:                 sunday   R-squared:                       0.918\n",
       "Model:                            OLS   Adj. R-squared:                  0.915\n",
       "Method:                 Least Squares   F-statistic:                     358.5\n",
       "Date:                Sat, 01 Feb 2025   Prob (F-statistic):           6.02e-19\n",
       "Time:                        10:57:15   Log-Likelihood:                -206.85\n",
       "No. Observations:                  34   AIC:                             417.7\n",
       "Df Residuals:                      32   BIC:                             420.8\n",
       "Df Model:                           1                                         \n",
       "Covariance Type:            nonrobust                                         \n",
       "==============================================================================\n",
       "                 coef    std err          t      P>|t|      [0.025      0.975]\n",
       "------------------------------------------------------------------------------\n",
       "Intercept     13.8356     35.804      0.386      0.702     -59.095      86.766\n",
       "daily          1.3397      0.071     18.935      0.000       1.196       1.484\n",
       "==============================================================================\n",
       "Omnibus:                        3.297   Durbin-Watson:                   2.059\n",
       "Prob(Omnibus):                  0.192   Jarque-Bera (JB):                1.990\n",
       "Skew:                           0.396   Prob(JB):                        0.370\n",
       "Kurtosis:                       3.882   Cond. No.                         965.\n",
       "==============================================================================\n",
       "\n",
       "Notes:\n",
       "[1] Standard Errors assume that the covariance matrix of the errors is correctly specified.\n",
       "\"\"\""
      ]
     },
     "execution_count": 11,
     "metadata": {},
     "output_type": "execute_result"
    }
   ],
   "source": [
    "model.summary()"
   ]
  },
  {
   "cell_type": "markdown",
   "id": "e5182bdb",
   "metadata": {},
   "source": [
    "* The predicted value is\n",
    "* Y (hat) = beta_0 + Beta_1X\n",
    "* Y (hat) = 13.83556 + 1.3397"
   ]
  },
  {
   "cell_type": "markdown",
   "id": "04bcbb42",
   "metadata": {},
   "source": [
    "- The probability (p-value) for intercept(beta_0) is 0.05\n",
    "- Thereforethe intercept coefficient may not be that much significant in prediction\n",
    "- However the p-value for \"daily\" (beta_1) is 0.00 < 0.05\n",
    "- Therefore the beta_1 coefficient is highly significant and its contribution to prediction."
   ]
  },
  {
   "cell_type": "code",
   "execution_count": 12,
   "id": "41decf22",
   "metadata": {},
   "outputs": [
    {
     "data": {
      "image/png": "[encoded data removed]",
      "text/plain": [
       "<Figure size 640x480 with 1 Axes>"
      ]
     },
     "metadata": {},
     "output_type": "display_data"
    }
   ],
   "source": [
    "x = data1[\"daily\"].values\n",
    "y = data1[\"sunday\"].values\n",
    "plt.scatter(x, y, color = \"y\", marker = \"o\", s = 30)\n",
    "b0 = 13.84\n",
    "b1 = 1.33\n",
    "\n",
    "#predicted response vector\n",
    "y_hat = b0 + b1*x\n",
    "\n",
    "#plotting the regression line\n",
    "plt.plot(x, y_hat, color = \"b\")\n",
    "\n",
    "#putting labels\n",
    "plt.xlabel('x')\n",
    "plt.ylabel('y')\n",
    "plt.show()"
   ]
  },
  {
   "cell_type": "code",
   "execution_count": null,
   "id": "8be68aef",
   "metadata": {},
   "outputs": [],
   "source": []
  }
 ],
 "metadata": {
  "kernelspec": {
   "display_name": "Python 3 (ipykernel)",
   "language": "python",
   "name": "python3"
  },
  "language_info": {
   "codemirror_mode": {
    "name": "ipython",
    "version": 3
   },
   "file_extension": ".py",
   "mimetype": "text/x-python",
   "name": "python",
   "nbconvert_exporter": "python",
   "pygments_lexer": "ipython3",
   "version": "3.11.5"
  }
 },
 "nbformat": 4,
 "nbformat_minor": 5
}
